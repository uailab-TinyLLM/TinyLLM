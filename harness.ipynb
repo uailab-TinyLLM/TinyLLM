{
  "cells": [
   {
    "cell_type": "code",
    "execution_count": 3,
    "metadata": {},
    "outputs": [
     {
      "data": {
       "text/plain": [
        "True"
       ]
      },
      "execution_count": 3,
      "metadata": {},
      "output_type": "execute_result"
     }
    ],
    "source": [
     "import wandb\n",
     "\n",
     "\n",
     "wandb.login()"
    ]
   },
   {
    "cell_type": "code",
    "execution_count": 4,
    "metadata": {},
    "outputs": [],
    "source": [
     "# Define variables\n",
     "models = [\"Qwen/Qwen2.5-0.5B\"]\n",
     "add_bos_token = True\n",
     "batch_size = 1\n",
     "task = \"boolq\"\n",
     "shot = 0\n"
    ]
   },
   {
    "cell_type": "code",
    "execution_count": null,
    "metadata": {},
    "outputs": [
     {
      "name": "stdout",
      "output_type": "stream",
      "text": [
       "Running iteration 1 with model Qwen/Qwen2.5-0.5B...\n"
      ]
     }
    ],
    "source": [
     "\n",
     "# Loop through the models list dynamically based on its length\n",
     "for i, hf_model in enumerate(models):\n",
     "    print(f\"Running iteration {i + 1} with model {hf_model}...\")\n",
     "    \n",
     "    !lm_eval --model hf \\\n",
     "             --model_args pretrained={hf_model},trust_remote_code=True,add_bos_token={add_bos_token},max_memory_per_gpu=\"5.9GB\",max_cpu_memory=\"5.9GB\" \\\n",
     "             --tasks {task} \\\n",
     "             --device cuda:0 \\\n",
     "             --batch_size 1 \\\n",
     "             --num_fewshot {shot} \\\n",
     "             --output_path output/{hf_model} \\\n",
     "             --wandb_args project=lm-eval-harness-integration \\\n",
     "             --log_samples \\\n",
     "             > ./output/{hf_model}_{task}_stdout.txt 2>&1\n",
     "            #  > output/{hf_model}/{task}/stdout.txt 2>&1 \n"
    ]
   }
  ],
  "metadata": {
   "kernelspec": {
    "display_name": "py310",
    "language": "python",
    "name": "python3"
   },
   "language_info": {
    "codemirror_mode": {
     "name": "ipython",
     "version": 3
    },
    "file_extension": ".py",
    "mimetype": "text/x-python",
    "name": "python",
    "nbconvert_exporter": "python",
    "pygments_lexer": "ipython3",
    "version": "3.10.16"
   }
  },
  "nbformat": 4,
  "nbformat_minor": 2
 }
 